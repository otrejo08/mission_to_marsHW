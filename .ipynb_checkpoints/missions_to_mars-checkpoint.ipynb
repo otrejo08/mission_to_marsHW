{
 "cells": [
  {
   "cell_type": "code",
   "execution_count": null,
   "metadata": {},
   "outputs": [],
   "source": [
    "#Import dependencies\n",
    "from bs4 import BeautifulSoup\n",
    "import pymongo\n",
    "from splinter import Browser\n",
    "import requests\n",
    "import time\n",
    "import pandas as pd\n",
    "from selenium import webdriver\n",
    "from selenium.webdriver.common.keys import Keys\n",
    "from selenium.webdriver.common.action_chains import ActionChains"
   ]
  },
  {
   "cell_type": "code",
   "execution_count": 39,
   "metadata": {},
   "outputs": [
    {
     "name": "stdout",
     "output_type": "stream",
     "text": [
      "/usr/local/bin/chromedriver\r\n"
     ]
    }
   ],
   "source": [
    "!which chromedriver"
   ]
  },
  {
   "cell_type": "code",
   "execution_count": null,
   "metadata": {},
   "outputs": [],
   "source": [
    "# identify location of chromedriver and store it as a variable\n",
    "driverPath = !which chromedriver\n",
    "\n",
    "# Setup configuration variables to enable Splinter to interact with browser\n",
    "executable_path = {'executable_path': driverPath[0]}\n",
    "browser = Browser('chrome', **executable_path, headless=False)"
   ]
  },
  {
   "cell_type": "markdown",
   "metadata": {},
   "source": [
    "# Nasa Mars News"
   ]
  },
  {
   "cell_type": "code",
   "execution_count": null,
   "metadata": {},
   "outputs": [],
   "source": [
    "#visit url\n",
    "url = 'https://mars.nasa.gov/news/'\n",
    "browser.visit(url)\n",
    "\n",
    "#pull html text and parse\n",
    "html_code = browser.html\n",
    "soup = BeautifulSoup(html_code, \"html.parser\")\n",
    "\n",
    "news_title = soup.find(\"div\", class_=\"content_title\").text\n",
    "news_p = soup.find(\"div\", class_=\"article_teaser_body\").text\n",
    "\n",
    "print(news_title)\n",
    "print(news_p)\n"
   ]
  },
  {
   "cell_type": "markdown",
   "metadata": {},
   "source": [
    "# JPL Mars Space Images - Featured Image"
   ]
  },
  {
   "cell_type": "code",
   "execution_count": null,
   "metadata": {},
   "outputs": [],
   "source": [
    "jpl_url = \"https://www.jpl.nasa.gov/spaceimages/?search=&category=Mars\"\n",
    "browser.visit(jpl_url)\n",
    "\n",
    "browser.click_link_by_partial_text(\"FULL IMAGE\")\n",
    "#Move to the next image\n",
    "actions = ActionChains(browser.driver)\n",
    "time.sleep(4)\n",
    "actions.send_keys(Keys.ARROW_RIGHT)\n",
    "actions.perform()\n",
    "time.sleep(5)\n",
    "browser.click_link_by_partial_text(\"more info\")\n",
    "time.sleep(3)\n",
    "browser.click_link_by_partial_href(\"spaceimages/images/largesize\")\n",
    "time.sleep(3)\n",
    "\n",
    "html = browser.html\n",
    "soup = BeautifulSoup(html, \"html.parser\")\n",
    "\n",
    "featured_image_url  = soup.img['src']\n",
    "\n",
    "print(featured_image_url)"
   ]
  },
  {
   "cell_type": "markdown",
   "metadata": {},
   "source": [
    "## Mars Weather"
   ]
  },
  {
   "cell_type": "code",
   "execution_count": null,
   "metadata": {},
   "outputs": [],
   "source": [
    "mars_weather_url = \"https://twitter.com/marswxreport?lang=en\"\n",
    "browser.visit(mars_weather_url)\n",
    "\n",
    "mars_weather_html = browser.html\n",
    "soup = BeautifulSoup(mars_weather_html, \"html.parser\")\n",
    "\n",
    "tweets = soup.find_all(\"p\", class_=\"TweetTextSize TweetTextSize--normal js-tweet-text tweet-text\")\n",
    "\n",
    "#Loop through Twitter account to find the most recent post related to Mars weather\n",
    "for tweet in tweets:\n",
    "    try:\n",
    "        # Identify tweet text\n",
    "        mars_weather = str(tweet.text)\n",
    "\n",
    "        # Run only if tweet text starts with \"Sol\"\n",
    "        if (mars_weather.startswith('Sol')):\n",
    "            # Print results\n",
    "            print(mars_weather)\n",
    "            break\n",
    "        else:\n",
    "            continue\n",
    "\n",
    "\n",
    "    except Exception as e:\n",
    "        print(e)"
   ]
  },
  {
   "cell_type": "markdown",
   "metadata": {},
   "source": [
    "## Mars Facts"
   ]
  },
  {
   "cell_type": "code",
   "execution_count": null,
   "metadata": {},
   "outputs": [],
   "source": [
    "facts_url = \"https://space-facts.com/mars/\"\n",
    "browser.visit(facts_url)\n",
    "\n",
    "facts_html = browser.html\n",
    "soup = BeautifulSoup(facts_html, \"html.parser\")\n",
    "\n",
    "mars_table = soup.find(\"table\", class_=\"tablepress tablepress-id-mars\")\n",
    "mars_facts = mars_table.find_all('tr')\n",
    "\n",
    "key = []\n",
    "value = []\n",
    "\n",
    "#Loop to append all table data into Key and Value lists\n",
    "for row in mars_facts:\n",
    "    table_data = row.find_all('td')\n",
    "    key.append(table_data[0].text)\n",
    "    value.append(table_data[1].text)"
   ]
  },
  {
   "cell_type": "code",
   "execution_count": null,
   "metadata": {},
   "outputs": [],
   "source": [
    "mars_df = pd.DataFrame({\n",
    "    \"Property\": key,\n",
    "    \"Value\": value\n",
    "})\n",
    "\n",
    "mars_df"
   ]
  },
  {
   "cell_type": "code",
   "execution_count": null,
   "metadata": {},
   "outputs": [],
   "source": [
    "#Convert into HTML\n",
    "mars_facts_html = mars_df.to_html(header = False, index = False)\n",
    "mars_facts_html"
   ]
  },
  {
   "cell_type": "markdown",
   "metadata": {},
   "source": [
    "## Mars Hemispheres"
   ]
  },
  {
   "cell_type": "code",
   "execution_count": null,
   "metadata": {},
   "outputs": [],
   "source": [
    "hemispheres_url = \"https://astrogeology.usgs.gov/search/results?q=hemisphere+enhanced&k1=target&v1=Mars\"\n",
    "browser.visit(hemispheres_url)\n",
    "\n",
    "hemispheres_html = browser.html\n",
    "soup = BeautifulSoup(hemispheres_html, \"html.parser\")\n",
    "\n",
    "mars_hemispheres = soup.find_all(\"h3\")\n",
    "\n",
    "hemisphere_image_urls = []\n",
    "\n",
    "#Loop to scrap all hemispheres\n",
    "for row in mars_hemispheres:\n",
    "    title = row.text\n",
    "    browser.click_link_by_partial_text(title)\n",
    "    time.sleep(3)\n",
    "    \n",
    "    img_html = browser.html\n",
    "    soup_h = BeautifulSoup(img_html, \"html.parser\")\n",
    "    \n",
    "    url_img = soup_h.find(\"div\", class_=\"downloads\").a[\"href\"]\n",
    "    \n",
    "    img_dict = {}\n",
    "    img_dict[\"title\"] = title\n",
    "    img_dict[\"img_url\"] = url_img\n",
    "    \n",
    "    hemisphere_image_urls.append(img_dict)\n",
    "    \n",
    "    browser.visit(hemispheres_url)\n",
    "\n",
    "print(hemisphere_image_urls)"
   ]
  },
  {
   "cell_type": "code",
   "execution_count": 43,
   "metadata": {},
   "outputs": [
    {
     "name": "stdout",
     "output_type": "stream",
     "text": [
      "{'name': 'Mars', 'news_title': 'After a Reset, Curiosity Is Operating Normally', 'news_p': \"NASA's Mars rover Curiosity is in good health but takes a short break while engineers diagnose why it reset its computer. \", 'featured_image_url': 'https://www.jpl.nasa.gov/spaceimages/images/largesize/PIA23047_hires.jpg', 'mars_weather': 'Sol 2319 (2019-02-13), high -17C/1F, low -72C/-97F, pressure at 8.12 hPa, daylight 06:46-18:52pic.twitter.com/anlHR95BMs', 'mars_facts': '<table border=\"1\" class=\"dataframe\">\\n  <tbody>\\n    <tr>\\n      <td>Equatorial Diameter:</td>\\n      <td>6,792 km\\\\n</td>\\n    </tr>\\n    <tr>\\n      <td>Polar Diameter:</td>\\n      <td>6,752 km\\\\n</td>\\n    </tr>\\n    <tr>\\n      <td>Mass:</td>\\n      <td>6.42 x 10^23 kg (10.7% Earth)</td>\\n    </tr>\\n    <tr>\\n      <td>Moons:</td>\\n      <td>2 (Phobos &amp; Deimos)</td>\\n    </tr>\\n    <tr>\\n      <td>Orbit Distance:</td>\\n      <td>227,943,824 km (1.52 AU)</td>\\n    </tr>\\n    <tr>\\n      <td>Orbit Period:</td>\\n      <td>687 days (1.9 years)\\\\n</td>\\n    </tr>\\n    <tr>\\n      <td>Surface Temperature:</td>\\n      <td>-153 to 20 °C</td>\\n    </tr>\\n    <tr>\\n      <td>First Record:</td>\\n      <td>2nd millennium BC</td>\\n    </tr>\\n    <tr>\\n      <td>Recorded By:</td>\\n      <td>Egyptian astronomers</td>\\n    </tr>\\n  </tbody>\\n</table>', 'hemisphere_images': [{'title': 'Cerberus Hemisphere Enhanced', 'img_url': 'http://astropedia.astrogeology.usgs.gov/download/Mars/Viking/cerberus_enhanced.tif/full.jpg'}, {'title': 'Schiaparelli Hemisphere Enhanced', 'img_url': 'http://astropedia.astrogeology.usgs.gov/download/Mars/Viking/schiaparelli_enhanced.tif/full.jpg'}, {'title': 'Syrtis Major Hemisphere Enhanced', 'img_url': 'http://astropedia.astrogeology.usgs.gov/download/Mars/Viking/syrtis_major_enhanced.tif/full.jpg'}, {'title': 'Valles Marineris Hemisphere Enhanced', 'img_url': 'http://astropedia.astrogeology.usgs.gov/download/Mars/Viking/valles_marineris_enhanced.tif/full.jpg'}]}\n"
     ]
    }
   ],
   "source": [
    "#Save all the scraped data in a dictionary\n",
    "mars_data = {\n",
    "        \"name\": \"Mars\",\n",
    "        \"news_title\": news_title,\n",
    "        \"news_p\": news_p,\n",
    "        \"featured_image_url\": featured_image_url,\n",
    "        \"mars_weather\": mars_weather,\n",
    "        \"mars_facts\": mars_facts_html,\n",
    "        \"hemisphere_images\": hemisphere_image_urls}\n",
    "print(mars_data)"
   ]
  },
  {
   "cell_type": "code",
   "execution_count": null,
   "metadata": {},
   "outputs": [],
   "source": []
  }
 ],
 "metadata": {
  "kernelspec": {
   "display_name": "Python 3",
   "language": "python",
   "name": "python3"
  },
  "language_info": {
   "codemirror_mode": {
    "name": "ipython",
    "version": 3
   },
   "file_extension": ".py",
   "mimetype": "text/x-python",
   "name": "python",
   "nbconvert_exporter": "python",
   "pygments_lexer": "ipython3",
   "version": "3.6.8"
  }
 },
 "nbformat": 4,
 "nbformat_minor": 2
}
